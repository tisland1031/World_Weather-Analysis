{
 "cells": [
  {
   "cell_type": "code",
   "execution_count": 17,
   "id": "cfcf93ed",
   "metadata": {},
   "outputs": [],
   "source": [
    "#Import the random module/\n",
    "import random"
   ]
  },
  {
   "cell_type": "code",
   "execution_count": 18,
   "id": "66b10a9c",
   "metadata": {},
   "outputs": [
    {
     "data": {
      "text/plain": [
       "-31"
      ]
     },
     "execution_count": 18,
     "metadata": {},
     "output_type": "execute_result"
    }
   ],
   "source": [
    "random.randint(-90,90)"
   ]
  },
  {
   "cell_type": "code",
   "execution_count": 19,
   "id": "f9d8d637",
   "metadata": {},
   "outputs": [
    {
     "data": {
      "text/plain": [
       "0.9500832772179495"
      ]
     },
     "execution_count": 19,
     "metadata": {},
     "output_type": "execute_result"
    }
   ],
   "source": [
    "random.random()"
   ]
  },
  {
   "cell_type": "code",
   "execution_count": 20,
   "id": "d174ba96",
   "metadata": {},
   "outputs": [
    {
     "data": {
      "text/plain": [
       "-17.981668216693688"
      ]
     },
     "execution_count": 20,
     "metadata": {},
     "output_type": "execute_result"
    }
   ],
   "source": [
    "random_numbers =random.randint(-90,89) + random.random()\n",
    "random_numbers"
   ]
  },
  {
   "cell_type": "code",
   "execution_count": 21,
   "id": "8d8c85ea",
   "metadata": {},
   "outputs": [],
   "source": [
    "x =1\n",
    "latitudes =[]\n",
    "while x < 11:\n",
    "    random_lat =random.randint(-90,89) + random.random()\n",
    "    latitudes.append(random_lat)\n",
    "    x +=1\n"
   ]
  },
  {
   "cell_type": "code",
   "execution_count": 22,
   "id": "e4b6e5ed",
   "metadata": {},
   "outputs": [
    {
     "data": {
      "text/plain": [
       "10"
      ]
     },
     "execution_count": 22,
     "metadata": {},
     "output_type": "execute_result"
    }
   ],
   "source": [
    "random.randrange(-90,90, step=1)"
   ]
  },
  {
   "cell_type": "code",
   "execution_count": 23,
   "id": "69170a29",
   "metadata": {},
   "outputs": [
    {
     "data": {
      "text/plain": [
       "21"
      ]
     },
     "execution_count": 23,
     "metadata": {},
     "output_type": "execute_result"
    }
   ],
   "source": [
    "random.randrange(-90,90, step=3)"
   ]
  },
  {
   "cell_type": "code",
   "execution_count": 24,
   "id": "4e4f145b",
   "metadata": {},
   "outputs": [
    {
     "data": {
      "text/plain": [
       "5.2826835879162815"
      ]
     },
     "execution_count": 24,
     "metadata": {},
     "output_type": "execute_result"
    }
   ],
   "source": [
    "random.uniform(-90,90)"
   ]
  },
  {
   "cell_type": "code",
   "execution_count": 26,
   "id": "d27f7ca2",
   "metadata": {},
   "outputs": [],
   "source": [
    "#Import the NumPy modue\n",
    "import numpy as np\n"
   ]
  },
  {
   "cell_type": "code",
   "execution_count": 27,
   "id": "2bab45f9",
   "metadata": {},
   "outputs": [
    {
     "data": {
      "text/plain": [
       "-13.32148693762936"
      ]
     },
     "execution_count": 27,
     "metadata": {},
     "output_type": "execute_result"
    }
   ],
   "source": [
    "np.random.uniform(-90.000, 90.000)"
   ]
  },
  {
   "cell_type": "code",
   "execution_count": 29,
   "id": "d19850e1",
   "metadata": {},
   "outputs": [
    {
     "data": {
      "text/plain": [
       "array([ 24.3679325 , -85.57313289,  -6.1421763 ,  40.61716063,\n",
       "       -65.36538796, -36.97765752,  50.85516595,  28.49888453,\n",
       "       -83.38146782,  -1.31250294,  10.8550659 , -84.4463903 ,\n",
       "       -85.24086715,  44.95099834, -18.10195295,  40.26510283,\n",
       "        15.93977637,   2.13559079, -18.07102257,  34.85300477,\n",
       "       -65.77435282,   7.0630335 ,  23.11974181,  29.70271402,\n",
       "       -43.54006577, -61.08137299, -72.96267229,   5.55492325,\n",
       "       -17.14536335, -22.44427977, -55.46473364, -53.83467273,\n",
       "        46.90445059, -19.33759195, -71.06360616, -17.74489372,\n",
       "       -54.92882577, -22.78408518, -16.43096324,   5.58102951,\n",
       "        47.04934375, -47.64112232,  31.55570481, -24.19088825,\n",
       "        79.95355807, -77.87492655, -24.35689998,   0.57329818,\n",
       "       -14.74340835, -34.8682451 ])"
      ]
     },
     "execution_count": 29,
     "metadata": {},
     "output_type": "execute_result"
    }
   ],
   "source": [
    "np.random.uniform(-90.000, 90.000, size =50)"
   ]
  },
  {
   "cell_type": "code",
   "execution_count": 30,
   "id": "a3296cff",
   "metadata": {},
   "outputs": [],
   "source": [
    "# Import timeit.\n",
    "import timeit"
   ]
  },
  {
   "cell_type": "code",
   "execution_count": 31,
   "id": "c34cd1c2",
   "metadata": {},
   "outputs": [
    {
     "name": "stdout",
     "output_type": "stream",
     "text": [
      "128 µs ± 5.67 µs per loop (mean ± std. dev. of 7 runs, 10000 loops each)\n"
     ]
    }
   ],
   "source": [
    "%timeit np.random.uniform(-90.000, 90.000, size=15000)"
   ]
  },
  {
   "cell_type": "code",
   "execution_count": 33,
   "id": "100f64f3",
   "metadata": {},
   "outputs": [
    {
     "name": "stdout",
     "output_type": "stream",
     "text": [
      "9.55 µs ± 408 ns per loop (mean ± std. dev. of 7 runs, 100000 loops each)\n"
     ]
    }
   ],
   "source": [
    "def latitudes(size):\n",
    "    latitudes =[]\n",
    "    x =1\n",
    "    while x < 11:\n",
    "        random_lat =random.randint(-90,89) + random.random()\n",
    "        latitudes.append(random_lat)\n",
    "        x +=1\n",
    "    return latitudes\n",
    "# Call the function with 1500\n",
    "%timeit latitudes(1500)"
   ]
  },
  {
   "cell_type": "code",
   "execution_count": null,
   "id": "87b315b6",
   "metadata": {},
   "outputs": [],
   "source": []
  }
 ],
 "metadata": {
  "kernelspec": {
   "display_name": "PythonData",
   "language": "python",
   "name": "pythondata"
  },
  "language_info": {
   "codemirror_mode": {
    "name": "ipython",
    "version": 3
   },
   "file_extension": ".py",
   "mimetype": "text/x-python",
   "name": "python",
   "nbconvert_exporter": "python",
   "pygments_lexer": "ipython3",
   "version": "3.7.11"
  }
 },
 "nbformat": 4,
 "nbformat_minor": 5
}
