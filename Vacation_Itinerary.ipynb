{
 "cells": [
  {
   "cell_type": "markdown",
   "metadata": {},
   "source": [
    "## Deliverable 3. Create a Travel Itinerary Map."
   ]
  },
  {
   "cell_type": "code",
   "execution_count": 1,
   "metadata": {},
   "outputs": [],
   "source": [
    "# Dependencies and Setup\n",
    "import pandas as pd\n",
    "import requests\n",
    "import gmaps\n",
    "\n",
    "# Import API key\n",
    "from config import g_key\n",
    "\n",
    "# Configure gmaps\n",
    "gmaps.configure(api_key=g_key)"
   ]
  },
  {
   "cell_type": "code",
   "execution_count": 2,
   "metadata": {},
   "outputs": [
    {
     "data": {
      "text/html": [
       "<div>\n",
       "<style scoped>\n",
       "    .dataframe tbody tr th:only-of-type {\n",
       "        vertical-align: middle;\n",
       "    }\n",
       "\n",
       "    .dataframe tbody tr th {\n",
       "        vertical-align: top;\n",
       "    }\n",
       "\n",
       "    .dataframe thead th {\n",
       "        text-align: right;\n",
       "    }\n",
       "</style>\n",
       "<table border=\"1\" class=\"dataframe\">\n",
       "  <thead>\n",
       "    <tr style=\"text-align: right;\">\n",
       "      <th></th>\n",
       "      <th>City_ID</th>\n",
       "      <th>City</th>\n",
       "      <th>Country</th>\n",
       "      <th>Max Temp</th>\n",
       "      <th>Current Description</th>\n",
       "      <th>Lat</th>\n",
       "      <th>Lng</th>\n",
       "      <th>Hotel Name</th>\n",
       "    </tr>\n",
       "  </thead>\n",
       "  <tbody>\n",
       "    <tr>\n",
       "      <th>0</th>\n",
       "      <td>0</td>\n",
       "      <td>San Policarpo</td>\n",
       "      <td>PH</td>\n",
       "      <td>83.30</td>\n",
       "      <td>overcast clouds</td>\n",
       "      <td>12.1791</td>\n",
       "      <td>125.5072</td>\n",
       "      <td>Agapita M. Nicart</td>\n",
       "    </tr>\n",
       "    <tr>\n",
       "      <th>1</th>\n",
       "      <td>2</td>\n",
       "      <td>Butaritari</td>\n",
       "      <td>KI</td>\n",
       "      <td>81.39</td>\n",
       "      <td>broken clouds</td>\n",
       "      <td>3.0707</td>\n",
       "      <td>172.7902</td>\n",
       "      <td>Isles Sunset Lodge</td>\n",
       "    </tr>\n",
       "    <tr>\n",
       "      <th>2</th>\n",
       "      <td>4</td>\n",
       "      <td>Pochutla</td>\n",
       "      <td>MX</td>\n",
       "      <td>81.82</td>\n",
       "      <td>overcast clouds</td>\n",
       "      <td>15.7432</td>\n",
       "      <td>-96.4661</td>\n",
       "      <td>Hotel Posada San Jose</td>\n",
       "    </tr>\n",
       "    <tr>\n",
       "      <th>3</th>\n",
       "      <td>11</td>\n",
       "      <td>Padang</td>\n",
       "      <td>ID</td>\n",
       "      <td>75.25</td>\n",
       "      <td>clear sky</td>\n",
       "      <td>-0.9492</td>\n",
       "      <td>100.3543</td>\n",
       "      <td>Mercure Padang</td>\n",
       "    </tr>\n",
       "    <tr>\n",
       "      <th>4</th>\n",
       "      <td>27</td>\n",
       "      <td>Bengkulu</td>\n",
       "      <td>ID</td>\n",
       "      <td>76.66</td>\n",
       "      <td>broken clouds</td>\n",
       "      <td>-3.8004</td>\n",
       "      <td>102.2655</td>\n",
       "      <td>Grage Hotel Bengkulu</td>\n",
       "    </tr>\n",
       "  </tbody>\n",
       "</table>\n",
       "</div>"
      ],
      "text/plain": [
       "   City_ID           City Country  Max Temp Current Description      Lat  \\\n",
       "0        0  San Policarpo      PH     83.30     overcast clouds  12.1791   \n",
       "1        2     Butaritari      KI     81.39       broken clouds   3.0707   \n",
       "2        4       Pochutla      MX     81.82     overcast clouds  15.7432   \n",
       "3       11         Padang      ID     75.25           clear sky  -0.9492   \n",
       "4       27       Bengkulu      ID     76.66       broken clouds  -3.8004   \n",
       "\n",
       "        Lng             Hotel Name  \n",
       "0  125.5072      Agapita M. Nicart  \n",
       "1  172.7902     Isles Sunset Lodge  \n",
       "2  -96.4661  Hotel Posada San Jose  \n",
       "3  100.3543         Mercure Padang  \n",
       "4  102.2655   Grage Hotel Bengkulu  "
      ]
     },
     "execution_count": 2,
     "metadata": {},
     "output_type": "execute_result"
    }
   ],
   "source": [
    "# 1. Read the WeatherPy_vacation.csv into a DataFrame.\n",
    "vacation_df = pd.read_csv(\"Vacation_Search/WeatherPy_vacation.csv\")\n",
    "vacation_df.head()"
   ]
  },
  {
   "cell_type": "code",
   "execution_count": 3,
   "metadata": {},
   "outputs": [],
   "source": [
    "# 2. Using the template add the city name, the country code, the weather description and maximum temperature for the city.\n",
    "info_box_template = \"\"\"\n",
    "<dl>\n",
    "<dt>Hotel Name</dt><dd>{Hotel Name}</dd>\n",
    "<dt>City</dt><dd>{City}</dd>\n",
    "<dt>Country</dt><dd>{Country}</dd>\n",
    "<dt>Current Description</dt><dd>{Current Description}</dd>\n",
    "<dt>Max Temp</dt><dd>{Max Temp} °F</dd>\n",
    "</dl>\n",
    "\"\"\"\n",
    "\n",
    "# 3a. Get the data from each row and add it to the formatting template and store the data in a list.\n",
    "hotel_info = [info_box_template.format(**row) for index, row in vacation_df.iterrows()]\n",
    "\n",
    "# 3b. Get the latitude and longitude from each row and store in a new DataFrame.\n",
    "locations = vacation_df[[\"Lat\", \"Lng\"]]"
   ]
  },
  {
   "cell_type": "code",
   "execution_count": 4,
   "metadata": {},
   "outputs": [
    {
     "data": {
      "application/vnd.jupyter.widget-view+json": {
       "model_id": "fdeaf6a3d78d46eb9b565814ea7e7344",
       "version_major": 2,
       "version_minor": 0
      },
      "text/plain": [
       "Figure(layout=FigureLayout(height='420px'))"
      ]
     },
     "metadata": {},
     "output_type": "display_data"
    }
   ],
   "source": [
    "# 4a. Add a marker layer for each city to the map.\n",
    "max_temp = vacation_df[\"Max Temp\"]\n",
    "fig = gmaps.figure(center=(30.0, 31.0), zoom_level=1.5)\n",
    "heat_layer = gmaps.heatmap_layer(locations, weights=max_temp,dissipating=False,\n",
    "             max_intensity=300, point_radius=4)\n",
    "marker_layer = gmaps.marker_layer(locations, info_box_content=hotel_info)\n",
    "fig.add_layer(heat_layer)\n",
    "fig.add_layer(marker_layer)\n",
    "# 4b. Display the figure\n",
    "\n",
    "fig"
   ]
  },
  {
   "cell_type": "code",
   "execution_count": 5,
   "metadata": {},
   "outputs": [],
   "source": [
    "# From the map above pick 4 cities and create a vacation itinerary route to travel between the four cities. \n",
    "# 5. Create DataFrames for each city by filtering the 'vacation_df' using the loc method. \n",
    "# Hint: The starting and ending city should be the same city.\n",
    "\n",
    "vacation_start = vacation_df.loc[(vacation_df[\"City\"]== \"Albury\")]\n",
    "vacation_end = vacation_df.loc[(vacation_df[\"City\"]== \"Albury\")]\n",
    "vacation_stop1 = vacation_df.loc[(vacation_df[\"City\"]== \"Codrington\")]\n",
    "vacation_stop2 = vacation_df.loc[(vacation_df[\"City\"]== \"Port Lincoln\")] \n",
    "vacation_stop3 = vacation_df.loc[(vacation_df[\"City\"]== \"Hervey Bay\")] "
   ]
  },
  {
   "cell_type": "code",
   "execution_count": 6,
   "metadata": {},
   "outputs": [],
   "source": [
    "# 6. Get the latitude-longitude pairs as tuples from each city DataFrame using the to_numpy function and list indexing.\n",
    "start = vacation_start[[\"Lat\", \"Lng\"]].to_numpy()[0]\n",
    "end =  vacation_end[[\"Lat\", \"Lng\"]].to_numpy()[0]\n",
    "stop1 = vacation_stop1[[\"Lat\", \"Lng\"]].to_numpy()[0]\n",
    "stop2 = vacation_stop2[[\"Lat\", \"Lng\"]].to_numpy()[0]\n",
    "stop3 = vacation_stop3[[\"Lat\", \"Lng\"]].to_numpy()[0]  "
   ]
  },
  {
   "cell_type": "code",
   "execution_count": 7,
   "metadata": {
    "scrolled": true
   },
   "outputs": [
    {
     "data": {
      "application/vnd.jupyter.widget-view+json": {
       "model_id": "e03b632e78e24d159e9aa061c82ca250",
       "version_major": 2,
       "version_minor": 0
      },
      "text/plain": [
       "Figure(layout=FigureLayout(height='420px'))"
      ]
     },
     "metadata": {},
     "output_type": "display_data"
    }
   ],
   "source": [
    "# 7. Create a direction layer map using the start and end latitude-longitude pairs,\n",
    "# and stop1, stop2, and stop3 as the waypoints. The travel_mode should be \"DRIVING\", \"BICYCLING\", or \"WALKING\".\n",
    "fig = gmaps.figure()\n",
    "travel_route = gmaps.directions_layer(start, end, waypoints=[stop1,stop2,stop3], travel_mode=\"DRIVING\" or \"BICYCLING\" or \"WALKING\")\n",
    "fig.add_layer(travel_route)\n",
    "fig \n"
   ]
  },
  {
   "cell_type": "code",
   "execution_count": 9,
   "metadata": {},
   "outputs": [
    {
     "data": {
      "text/html": [
       "<div>\n",
       "<style scoped>\n",
       "    .dataframe tbody tr th:only-of-type {\n",
       "        vertical-align: middle;\n",
       "    }\n",
       "\n",
       "    .dataframe tbody tr th {\n",
       "        vertical-align: top;\n",
       "    }\n",
       "\n",
       "    .dataframe thead th {\n",
       "        text-align: right;\n",
       "    }\n",
       "</style>\n",
       "<table border=\"1\" class=\"dataframe\">\n",
       "  <thead>\n",
       "    <tr style=\"text-align: right;\">\n",
       "      <th></th>\n",
       "      <th>City_ID</th>\n",
       "      <th>City</th>\n",
       "      <th>Country</th>\n",
       "      <th>Max Temp</th>\n",
       "      <th>Current Description</th>\n",
       "      <th>Lat</th>\n",
       "      <th>Lng</th>\n",
       "      <th>Hotel Name</th>\n",
       "    </tr>\n",
       "  </thead>\n",
       "  <tbody>\n",
       "    <tr>\n",
       "      <th>0</th>\n",
       "      <td>519</td>\n",
       "      <td>Albury</td>\n",
       "      <td>AU</td>\n",
       "      <td>81.14</td>\n",
       "      <td>clear sky</td>\n",
       "      <td>-36.0833</td>\n",
       "      <td>146.9167</td>\n",
       "      <td>Albury Georgian Motel &amp; Suites</td>\n",
       "    </tr>\n",
       "    <tr>\n",
       "      <th>1</th>\n",
       "      <td>201</td>\n",
       "      <td>Codrington</td>\n",
       "      <td>AU</td>\n",
       "      <td>77.72</td>\n",
       "      <td>clear sky</td>\n",
       "      <td>-38.2667</td>\n",
       "      <td>141.9667</td>\n",
       "      <td>Codrington Gardens Bed And Breakfast</td>\n",
       "    </tr>\n",
       "    <tr>\n",
       "      <th>2</th>\n",
       "      <td>85</td>\n",
       "      <td>Port Lincoln</td>\n",
       "      <td>AU</td>\n",
       "      <td>76.48</td>\n",
       "      <td>overcast clouds</td>\n",
       "      <td>-34.7333</td>\n",
       "      <td>135.8667</td>\n",
       "      <td>Port Lincoln Hotel</td>\n",
       "    </tr>\n",
       "    <tr>\n",
       "      <th>3</th>\n",
       "      <td>589</td>\n",
       "      <td>Hervey Bay</td>\n",
       "      <td>AU</td>\n",
       "      <td>76.42</td>\n",
       "      <td>light rain</td>\n",
       "      <td>-25.2986</td>\n",
       "      <td>152.8535</td>\n",
       "      <td>Shelly Bay Resort</td>\n",
       "    </tr>\n",
       "  </tbody>\n",
       "</table>\n",
       "</div>"
      ],
      "text/plain": [
       "   City_ID          City Country  Max Temp Current Description      Lat  \\\n",
       "0      519        Albury      AU     81.14           clear sky -36.0833   \n",
       "1      201    Codrington      AU     77.72           clear sky -38.2667   \n",
       "2       85  Port Lincoln      AU     76.48     overcast clouds -34.7333   \n",
       "3      589    Hervey Bay      AU     76.42          light rain -25.2986   \n",
       "\n",
       "        Lng                            Hotel Name  \n",
       "0  146.9167        Albury Georgian Motel & Suites  \n",
       "1  141.9667  Codrington Gardens Bed And Breakfast  \n",
       "2  135.8667                    Port Lincoln Hotel  \n",
       "3  152.8535                     Shelly Bay Resort  "
      ]
     },
     "execution_count": 9,
     "metadata": {},
     "output_type": "execute_result"
    }
   ],
   "source": [
    "# 8. To create a marker layer map between the four cities.\n",
    "#  Combine the four city DataFrames into one DataFrame using the concat() function.\n",
    "itinerary_df = pd.concat([vacation_start, vacation_stop1, vacation_stop2, vacation_stop3],ignore_index=True)\n",
    "itinerary_df"
   ]
  },
  {
   "cell_type": "code",
   "execution_count": 10,
   "metadata": {},
   "outputs": [],
   "source": [
    "# 9 Using the template add city name, the country code, the weather description and maximum temperature for the city. \n",
    "info_box_template = \"\"\"\n",
    "<dl>\n",
    "<dt>Hotel Name</dt><dd>{Hotel Name}</dd>\n",
    "<dt>City</dt><dd>{City}</dd>\n",
    "<dt>Country</dt><dd>{Country}</dd>\n",
    "<dt>Weather Description</dt><dd>{Current Description}</dd>\n",
    "<dt>Max Temp</dt><dd>{Max Temp}</dd>\n",
    "</dl>\n",
    "\"\"\"\n",
    "\n",
    "# 10a Get the data from each row and add it to the formatting template and store the data in a list.\n",
    "hotel_info = [info_box_template.format(**row) for index, row in itinerary_df.iterrows()]\n",
    "\n",
    "# 10b. Get the latitude and longitude from each row and store in a new DataFrame.\n",
    "locations = itinerary_df[[\"Lat\", \"Lng\"]]"
   ]
  },
  {
   "cell_type": "code",
   "execution_count": 11,
   "metadata": {},
   "outputs": [
    {
     "data": {
      "application/vnd.jupyter.widget-view+json": {
       "model_id": "7f282fc8a4884d80b93326f1999c3fcc",
       "version_major": 2,
       "version_minor": 0
      },
      "text/plain": [
       "Figure(layout=FigureLayout(height='420px'))"
      ]
     },
     "metadata": {},
     "output_type": "display_data"
    }
   ],
   "source": [
    "# 11a. Add a marker layer for each city to the map.\n",
    "fig = gmaps.figure()\n",
    "markers = gmaps.marker_layer(locations, info_box_content=hotel_info)\n",
    "fig.add_layer(markers)\n",
    "# 11b. Display the figure\n",
    "fig"
   ]
  },
  {
   "cell_type": "code",
   "execution_count": null,
   "metadata": {},
   "outputs": [],
   "source": []
  }
 ],
 "metadata": {
  "kernelspec": {
   "display_name": "PythonData",
   "language": "python",
   "name": "pythondata"
  },
  "language_info": {
   "codemirror_mode": {
    "name": "ipython",
    "version": 3
   },
   "file_extension": ".py",
   "mimetype": "text/x-python",
   "name": "python",
   "nbconvert_exporter": "python",
   "pygments_lexer": "ipython3",
   "version": "3.7.11"
  },
  "latex_envs": {
   "LaTeX_envs_menu_present": true,
   "autoclose": false,
   "autocomplete": true,
   "bibliofile": "biblio.bib",
   "cite_by": "apalike",
   "current_citInitial": 1,
   "eqLabelWithNumbers": true,
   "eqNumInitial": 1,
   "hotkeys": {
    "equation": "Ctrl-E",
    "itemize": "Ctrl-I"
   },
   "labels_anchors": false,
   "latex_user_defs": false,
   "report_style_numbering": false,
   "user_envs_cfg": false
  }
 },
 "nbformat": 4,
 "nbformat_minor": 2
}
