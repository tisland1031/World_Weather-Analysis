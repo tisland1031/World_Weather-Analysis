{
 "cells": [
  {
   "cell_type": "code",
   "execution_count": 1,
   "id": "3e45f853",
   "metadata": {},
   "outputs": [],
   "source": [
    "#Create a practice set of random latitude and longitude combination.\n",
    "x =[25.12903645, 25.92017388, 26.62509167, -59.98969384, 37.30571269]\n",
    "y=[-67.59741259, 11.09532135, 74.84233102, -76.89176677, -61.13376282,]\n",
    "coordinates = list(zip(x,y))"
   ]
  },
  {
   "cell_type": "code",
   "execution_count": 2,
   "id": "bc8ba86c",
   "metadata": {},
   "outputs": [
    {
     "name": "stdout",
     "output_type": "stream",
     "text": [
      "25.12903645 -67.59741259\n",
      "25.92017388 11.09532135\n",
      "26.62509167 74.84233102\n",
      "-59.98969384 -76.89176677\n",
      "37.30571269 -61.13376282\n"
     ]
    }
   ],
   "source": [
    "#use the tuple() function to display the latitude and longitude combination.\n",
    "for coordinate in coordinates:\n",
    "    print(coordinate[0], coordinate[1])"
   ]
  },
  {
   "cell_type": "code",
   "execution_count": 3,
   "id": "9653ea6f",
   "metadata": {},
   "outputs": [],
   "source": [
    "#Use the citypy module to determine city based on latitude and longitude.\n",
    "from citipy import citipy"
   ]
  },
  {
   "cell_type": "code",
   "execution_count": 4,
   "id": "f239c92c",
   "metadata": {},
   "outputs": [
    {
     "name": "stdout",
     "output_type": "stream",
     "text": [
      "cockburn town tc\n",
      "gat ly\n",
      "parvatsar in\n",
      "punta arenas cl\n",
      "saint george bm\n"
     ]
    }
   ],
   "source": [
    "# Use the tuple() function to display the latitude and longitude combination\n",
    "for coordinate in coordinates:\n",
    "    print(citipy.nearest_city(coordinate[0], coordinate[1]).city_name, \n",
    "          citipy.nearest_city(coordinate[0], coordinate[1]).country_code)"
   ]
  },
  {
   "cell_type": "code",
   "execution_count": 5,
   "id": "2289feeb",
   "metadata": {},
   "outputs": [
    {
     "data": {
      "text/plain": [
       "5"
      ]
     },
     "execution_count": 5,
     "metadata": {},
     "output_type": "execute_result"
    }
   ],
   "source": [
    "#Create a list for holding the cities.\n",
    "cities=[]\n",
    "#Identify the nearest city for each latitude and longitude combinations\n",
    "for coordinate in coordinates:\n",
    "    city = citipy.nearest_city(coordinate[0], coordinate[1]).city_name\n",
    "    \n",
    "    #If the city is unique, then we will add it to the cities list.\n",
    "    if city not in cities:\n",
    "        cities.append(city)\n",
    "#Print the city count to confirm sufficient count.\n",
    "len(cities)"
   ]
  },
  {
   "cell_type": "code",
   "execution_count": 18,
   "id": "c9558237",
   "metadata": {},
   "outputs": [],
   "source": [
    "#Import the request library.\n",
    "import requests\n",
    "\n",
    "#Import the API key.\n",
    "from config import weather_api_key"
   ]
  },
  {
   "cell_type": "code",
   "execution_count": 19,
   "id": "f8182ad9",
   "metadata": {},
   "outputs": [
    {
     "data": {
      "text/plain": [
       "'4e6078b7a76dfc52abc315eccb23ef9d'"
      ]
     },
     "execution_count": 19,
     "metadata": {},
     "output_type": "execute_result"
    }
   ],
   "source": [
    "weather_api_key"
   ]
  },
  {
   "cell_type": "code",
   "execution_count": 23,
   "id": "52f2d6ff",
   "metadata": {},
   "outputs": [
    {
     "name": "stdout",
     "output_type": "stream",
     "text": [
      "http://api.openweathermap.org/data/2.5/weather?appid=4e6078b7a76dfc52abc315eccb23ef9d&q=Boston\n"
     ]
    }
   ],
   "source": [
    "# Save config information\n",
    "url = \"http://api.openweathermap.org/data/2.5/weather?\"\n",
    "city = \"Boston\"\n",
    "\n",
    "# Build query URL\n",
    "city_url = url + \"appid=\" + weather_api_key + \"&q=\" + city\n",
    "print(city_url)"
   ]
  },
  {
   "cell_type": "code",
   "execution_count": 24,
   "id": "062164dc",
   "metadata": {},
   "outputs": [
    {
     "data": {
      "text/plain": [
       "<Response [200]>"
      ]
     },
     "execution_count": 24,
     "metadata": {},
     "output_type": "execute_result"
    }
   ],
   "source": [
    "#Make a \"get\" request for the city weather.\n",
    "city_weather=requests.get(city_url)\n",
    "city_weather"
   ]
  },
  {
   "cell_type": "code",
   "execution_count": 26,
   "id": "3e4b8eb7",
   "metadata": {},
   "outputs": [
    {
     "data": {
      "text/plain": [
       "<Response [200]>"
      ]
     },
     "execution_count": 26,
     "metadata": {},
     "output_type": "execute_result"
    }
   ],
   "source": [
    "#Create an endpoint URL for a city.\n",
    "city_url = url + \"appid=\" + weather_api_key +\"&q=\"+ \"Boston\"\n",
    "city_weather= requests.get(city_url)\n",
    "city_weather"
   ]
  },
  {
   "cell_type": "code",
   "execution_count": 27,
   "id": "2227cf1c",
   "metadata": {},
   "outputs": [
    {
     "data": {
      "text/plain": [
       "'{\"coord\":{\"lon\":-71.0598,\"lat\":42.3584},\"weather\":[{\"id\":804,\"main\":\"Clouds\",\"description\":\"overcast clouds\",\"icon\":\"04n\"}],\"base\":\"stations\",\"main\":{\"temp\":278.6,\"feels_like\":275.8,\"temp_min\":277.01,\"temp_max\":279.82,\"pressure\":1024,\"humidity\":53},\"visibility\":10000,\"wind\":{\"speed\":3.6,\"deg\":140},\"clouds\":{\"all\":100},\"dt\":1648082325,\"sys\":{\"type\":2,\"id\":2013408,\"country\":\"US\",\"sunrise\":1648032138,\"sunset\":1648076352},\"timezone\":-14400,\"id\":4930956,\"name\":\"Boston\",\"cod\":200}'"
      ]
     },
     "execution_count": 27,
     "metadata": {},
     "output_type": "execute_result"
    }
   ],
   "source": [
    "city_weather.text"
   ]
  },
  {
   "cell_type": "code",
   "execution_count": 28,
   "id": "bce36f64",
   "metadata": {},
   "outputs": [
    {
     "data": {
      "text/plain": [
       "{'coord': {'lon': -71.0598, 'lat': 42.3584},\n",
       " 'weather': [{'id': 804,\n",
       "   'main': 'Clouds',\n",
       "   'description': 'overcast clouds',\n",
       "   'icon': '04n'}],\n",
       " 'base': 'stations',\n",
       " 'main': {'temp': 278.6,\n",
       "  'feels_like': 275.8,\n",
       "  'temp_min': 277.01,\n",
       "  'temp_max': 279.82,\n",
       "  'pressure': 1024,\n",
       "  'humidity': 53},\n",
       " 'visibility': 10000,\n",
       " 'wind': {'speed': 3.6, 'deg': 140},\n",
       " 'clouds': {'all': 100},\n",
       " 'dt': 1648082325,\n",
       " 'sys': {'type': 2,\n",
       "  'id': 2013408,\n",
       "  'country': 'US',\n",
       "  'sunrise': 1648032138,\n",
       "  'sunset': 1648076352},\n",
       " 'timezone': -14400,\n",
       " 'id': 4930956,\n",
       " 'name': 'Boston',\n",
       " 'cod': 200}"
      ]
     },
     "execution_count": 28,
     "metadata": {},
     "output_type": "execute_result"
    }
   ],
   "source": [
    "# Get the JSON text of the \"get\" request.\n",
    "city_weather.json()"
   ]
  },
  {
   "cell_type": "code",
   "execution_count": 29,
   "id": "932228f6",
   "metadata": {},
   "outputs": [
    {
     "name": "stdout",
     "output_type": "stream",
     "text": [
      "City Weather found.\n"
     ]
    }
   ],
   "source": [
    "#Create an endpoint URL for a city.\n",
    "city_url = url + \"appid=\" + weather_api_key +\"&q=\"+ \"Boston\"\n",
    "city_weather = requests.get(city_url)\n",
    "if city_weather.status_code==200:\n",
    "    print(f\"City Weather found.\")\n",
    "else:\n",
    "    print(f\"City weather not found.\")"
   ]
  },
  {
   "cell_type": "code",
   "execution_count": 30,
   "id": "0174196a",
   "metadata": {},
   "outputs": [
    {
     "data": {
      "text/plain": [
       "{'coord': {'lon': -71.0598, 'lat': 42.3584},\n",
       " 'weather': [{'id': 804,\n",
       "   'main': 'Clouds',\n",
       "   'description': 'overcast clouds',\n",
       "   'icon': '04n'}],\n",
       " 'base': 'stations',\n",
       " 'main': {'temp': 278.61,\n",
       "  'feels_like': 275.81,\n",
       "  'temp_min': 277.01,\n",
       "  'temp_max': 279.82,\n",
       "  'pressure': 1025,\n",
       "  'humidity': 53},\n",
       " 'visibility': 10000,\n",
       " 'wind': {'speed': 3.6, 'deg': 140},\n",
       " 'clouds': {'all': 100},\n",
       " 'dt': 1648082810,\n",
       " 'sys': {'type': 2,\n",
       "  'id': 2013408,\n",
       "  'country': 'US',\n",
       "  'sunrise': 1648032138,\n",
       "  'sunset': 1648076352},\n",
       " 'timezone': -14400,\n",
       " 'id': 4930956,\n",
       " 'name': 'Boston',\n",
       " 'cod': 200}"
      ]
     },
     "execution_count": 30,
     "metadata": {},
     "output_type": "execute_result"
    }
   ],
   "source": [
    "#Create an endpoint URL for a city.\n",
    "city_url = url + \"appid=\" + weather_api_key +\"&q=\"+ \"Boston\"\n",
    "city_weather = requests.get(city_url)\n",
    "city_weather.json()"
   ]
  },
  {
   "cell_type": "code",
   "execution_count": 31,
   "id": "4b7dd526",
   "metadata": {},
   "outputs": [],
   "source": [
    "#Get the JSON data.\n",
    "boston_data =city_weather.json()"
   ]
  },
  {
   "cell_type": "code",
   "execution_count": 33,
   "id": "09b253a7",
   "metadata": {},
   "outputs": [
    {
     "data": {
      "text/plain": [
       "'US'"
      ]
     },
     "execution_count": 33,
     "metadata": {},
     "output_type": "execute_result"
    }
   ],
   "source": [
    "boston_data[\"sys\"][\"country\"]"
   ]
  },
  {
   "cell_type": "code",
   "execution_count": 34,
   "id": "e6372ef0",
   "metadata": {},
   "outputs": [
    {
     "name": "stdout",
     "output_type": "stream",
     "text": [
      "42.3584 -71.0598 279.82 53 100 3.6\n"
     ]
    }
   ],
   "source": [
    "lat =boston_data[\"coord\"][\"lat\"]\n",
    "lng=boston_data[\"coord\"][\"lon\"]\n",
    "max_temp = boston_data[\"main\"][\"temp_max\"]\n",
    "humidity= boston_data[\"main\"][\"humidity\"]\n",
    "cloud= boston_data[\"clouds\"][\"all\"]\n",
    "wind= boston_data[\"wind\"][\"speed\"]\n",
    "print(lat,lng,max_temp,humidity,cloud,wind)"
   ]
  },
  {
   "cell_type": "code",
   "execution_count": 35,
   "id": "74bc0339",
   "metadata": {},
   "outputs": [
    {
     "data": {
      "text/plain": [
       "1648082810"
      ]
     },
     "execution_count": 35,
     "metadata": {},
     "output_type": "execute_result"
    }
   ],
   "source": [
    "boston_data[\"dt\"]"
   ]
  },
  {
   "cell_type": "code",
   "execution_count": 38,
   "id": "38d29642",
   "metadata": {},
   "outputs": [
    {
     "data": {
      "text/plain": [
       "'2022-03-24 00:46:50'"
      ]
     },
     "execution_count": 38,
     "metadata": {},
     "output_type": "execute_result"
    }
   ],
   "source": [
    "#Import the dateline module from the datetime library.\n",
    "from datetime import datetime\n",
    "#Get the date from the JSON file,\n",
    "date= boston_data[\"dt\"]\n",
    "#Convert the UTC date to date format with year, month, day, hours, minute, and seconds\n",
    "datetime.utcfromtimestamp(date).strftime(\"%Y-%m-%d %H:%M:%S\")"
   ]
  },
  {
   "cell_type": "code",
   "execution_count": null,
   "id": "53b4b719",
   "metadata": {},
   "outputs": [],
   "source": []
  }
 ],
 "metadata": {
  "kernelspec": {
   "display_name": "PythonData",
   "language": "python",
   "name": "pythondata"
  },
  "language_info": {
   "codemirror_mode": {
    "name": "ipython",
    "version": 3
   },
   "file_extension": ".py",
   "mimetype": "text/x-python",
   "name": "python",
   "nbconvert_exporter": "python",
   "pygments_lexer": "ipython3",
   "version": "3.7.11"
  }
 },
 "nbformat": 4,
 "nbformat_minor": 5
}
